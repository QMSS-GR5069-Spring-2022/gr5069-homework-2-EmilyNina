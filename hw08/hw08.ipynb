{
 "cells": [
  {
   "cell_type": "code",
   "execution_count": 79,
   "id": "6348fad7",
   "metadata": {},
   "outputs": [],
   "source": [
    "import requests\n",
    "import json\n",
    "import pandas as pd"
   ]
  },
  {
   "cell_type": "markdown",
   "id": "13dba401",
   "metadata": {},
   "source": [
    "# 1. Choose an API"
   ]
  },
  {
   "cell_type": "markdown",
   "id": "ea57882a",
   "metadata": {},
   "source": [
    "### a) Choose an API and describe the type of data you can obtain from it"
   ]
  },
  {
   "cell_type": "markdown",
   "id": "3c72ee68",
   "metadata": {},
   "source": [
    "I will be using the Met Museum API. It has four available endpoints: Objects(a list of Object IDs), Object (a recird for a particular object), Departments (A list of valid departments), and Search (A list of Object IDs that contain a search query within the Object's data)."
   ]
  },
  {
   "cell_type": "markdown",
   "id": "b4c1b49f",
   "metadata": {},
   "source": [
    "### b) Provide a link to the API documentation "
   ]
  },
  {
   "cell_type": "markdown",
   "id": "9a621625",
   "metadata": {},
   "source": [
    "https://metmuseum.github.io/"
   ]
  },
  {
   "cell_type": "markdown",
   "id": "301b3185",
   "metadata": {},
   "source": [
    "### c) Provide a link to the base URL"
   ]
  },
  {
   "cell_type": "markdown",
   "id": "1364dbf3",
   "metadata": {},
   "source": [
    "https://collectionapi.metmuseum.org"
   ]
  },
  {
   "cell_type": "markdown",
   "id": "10bae456",
   "metadata": {},
   "source": [
    "# 2. Authentification"
   ]
  },
  {
   "cell_type": "markdown",
   "id": "a7face60",
   "metadata": {},
   "source": [
    "### a) Briefly explain how the API authenticates the user"
   ]
  },
  {
   "cell_type": "markdown",
   "id": "66262107",
   "metadata": {},
   "source": [
    "This API does not require users to register or obtain a key."
   ]
  },
  {
   "cell_type": "markdown",
   "id": "e54654ec",
   "metadata": {},
   "source": [
    "### b) Apply for an API key if necessary "
   ]
  },
  {
   "cell_type": "markdown",
   "id": "5aa4e767",
   "metadata": {},
   "source": [
    "Not Applicable "
   ]
  },
  {
   "cell_type": "markdown",
   "id": "d88d6cc7",
   "metadata": {},
   "source": [
    "# 3. Send a simple GET request"
   ]
  },
  {
   "cell_type": "markdown",
   "id": "1a2ab884",
   "metadata": {},
   "source": [
    "### a)  Execute a simple GET request to obtain a small amount of data from the API. Describe a few query parameters and add them to the query. Your output here should include the code for the GET request, including the query parameters, as well as a snippet of the output."
   ]
  },
  {
   "cell_type": "code",
   "execution_count": 1,
   "id": "1c04f01c",
   "metadata": {},
   "outputs": [
    {
     "ename": "NameError",
     "evalue": "name 'requests' is not defined",
     "output_type": "error",
     "traceback": [
      "\u001b[0;31m---------------------------------------------------------------------------\u001b[0m",
      "\u001b[0;31mNameError\u001b[0m                                 Traceback (most recent call last)",
      "\u001b[0;32m<ipython-input-1-0b4e221ae875>\u001b[0m in \u001b[0;36m<module>\u001b[0;34m\u001b[0m\n\u001b[0;32m----> 1\u001b[0;31m sr = requests.get('https://collectionapi.metmuseum.org/public/collection/v1/objects'\n\u001b[0m\u001b[1;32m      2\u001b[0m , params = {'Spotify ID': '2018-01-01'})\n",
      "\u001b[0;31mNameError\u001b[0m: name 'requests' is not defined"
     ]
    }
   ],
   "source": [
    "sr = requests.get('https://collectionapi.metmuseum.org/public/collection/v1/objects'\n",
    ", params = {'metadataDate': '2018-01-01'})"
   ]
  },
  {
   "cell_type": "code",
   "execution_count": 81,
   "id": "1b77c2a8",
   "metadata": {},
   "outputs": [],
   "source": [
    "json_sr = sr.json()"
   ]
  },
  {
   "cell_type": "code",
   "execution_count": 82,
   "id": "eca8bae2",
   "metadata": {},
   "outputs": [
    {
     "data": {
      "text/plain": [
       "dict_keys(['total', 'objectIDs'])"
      ]
     },
     "execution_count": 82,
     "metadata": {},
     "output_type": "execute_result"
    }
   ],
   "source": [
    "json_sr.keys()"
   ]
  },
  {
   "cell_type": "code",
   "execution_count": 83,
   "id": "ad708064",
   "metadata": {},
   "outputs": [],
   "source": [
    "count = json_sr['total']"
   ]
  },
  {
   "cell_type": "code",
   "execution_count": 84,
   "id": "962771b7",
   "metadata": {},
   "outputs": [
    {
     "data": {
      "text/plain": [
       "476693"
      ]
     },
     "execution_count": 84,
     "metadata": {},
     "output_type": "execute_result"
    }
   ],
   "source": [
    "count #printing total count of Object IDs"
   ]
  },
  {
   "cell_type": "code",
   "execution_count": 85,
   "id": "252152de",
   "metadata": {},
   "outputs": [],
   "source": [
    "ids = json_sr['objectIDs']"
   ]
  },
  {
   "cell_type": "code",
   "execution_count": 86,
   "id": "349ff83e",
   "metadata": {},
   "outputs": [
    {
     "name": "stdout",
     "output_type": "stream",
     "text": [
      "[1, 2, 3, 4, 5, 6, 7, 8, 9, 10]\n"
     ]
    }
   ],
   "source": [
    "print(ids[:10]) #printing list of Object IDs"
   ]
  },
  {
   "cell_type": "markdown",
   "id": "91eb755d",
   "metadata": {},
   "source": [
    "### b) Check (and show) the status of the request."
   ]
  },
  {
   "cell_type": "code",
   "execution_count": 87,
   "id": "fc8914e6",
   "metadata": {},
   "outputs": [
    {
     "data": {
      "text/plain": [
       "200"
      ]
     },
     "execution_count": 87,
     "metadata": {},
     "output_type": "execute_result"
    }
   ],
   "source": [
    "sr.status_code"
   ]
  },
  {
   "cell_type": "markdown",
   "id": "a3826293",
   "metadata": {},
   "source": [
    "### c) Check (and show) the type of the response (e.g. XML, JSON, csv)."
   ]
  },
  {
   "cell_type": "code",
   "execution_count": 88,
   "id": "b810cb2b",
   "metadata": {},
   "outputs": [
    {
     "data": {
      "text/plain": [
       "'application/json; charset=UTF-8'"
      ]
     },
     "execution_count": 88,
     "metadata": {},
     "output_type": "execute_result"
    }
   ],
   "source": [
    "sr.headers.get('content-type')"
   ]
  },
  {
   "cell_type": "markdown",
   "id": "69076451",
   "metadata": {},
   "source": [
    "# 4. Parse the response and Create a dataset"
   ]
  },
  {
   "cell_type": "markdown",
   "id": "b350ac63",
   "metadata": {},
   "source": [
    "### a) Take the response returned by the API and turn it into a useful Python object (e.g. a list, vector, or pandas data frame). Show the code how this is done."
   ]
  },
  {
   "cell_type": "code",
   "execution_count": 104,
   "id": "0722f7c8",
   "metadata": {},
   "outputs": [],
   "source": [
    "response_dict = pd.DataFrame.from_dict(json_sr)"
   ]
  },
  {
   "cell_type": "code",
   "execution_count": 108,
   "id": "d1244c7c",
   "metadata": {},
   "outputs": [
    {
     "name": "stdout",
     "output_type": "stream",
     "text": [
      "    total  objectIDs\n",
      "0  476693          1\n",
      "1  476693          2\n",
      "2  476693          3\n",
      "3  476693          4\n",
      "4  476693          5\n"
     ]
    }
   ],
   "source": [
    "print(response_dict.head()) #The above request for Object IDs as a dataframe"
   ]
  },
  {
   "cell_type": "markdown",
   "id": "a9ca67b5",
   "metadata": {},
   "source": [
    "### b) Using the API, create a dataset (in data frame format) for multiple records. I'd say a sample size greater than 100 is sufficient for the example but feel free to get more data if you feel ambitious and the API allows you to do that fairly easily. The dataset can include only a small subset of the returned data. Just choose some interesting features. There is no need to be inclusive here."
   ]
  },
  {
   "cell_type": "code",
   "execution_count": 137,
   "id": "3ef4dbc3",
   "metadata": {},
   "outputs": [],
   "source": [
    "req = requests.get('https://collectionapi.metmuseum.org/public/collection/v1/search?artistOrCulture=true&q=french')"
   ]
  },
  {
   "cell_type": "code",
   "execution_count": 138,
   "id": "49cff9a6",
   "metadata": {},
   "outputs": [],
   "source": [
    "req_json = req.json()"
   ]
  },
  {
   "cell_type": "code",
   "execution_count": 139,
   "id": "d6a42005",
   "metadata": {},
   "outputs": [
    {
     "data": {
      "text/plain": [
       "dict_keys(['total', 'objectIDs'])"
      ]
     },
     "execution_count": 139,
     "metadata": {},
     "output_type": "execute_result"
    }
   ],
   "source": [
    "req_json.keys()"
   ]
  },
  {
   "cell_type": "code",
   "execution_count": 142,
   "id": "a73850d8",
   "metadata": {},
   "outputs": [],
   "source": [
    "api_dataset = pd.DataFrame.from_dict(req_json)"
   ]
  },
  {
   "cell_type": "code",
   "execution_count": 144,
   "id": "ea30bc49",
   "metadata": {},
   "outputs": [
    {
     "name": "stdout",
     "output_type": "stream",
     "text": [
      "   total  objectIDs\n",
      "0  15230     459199\n",
      "1  15230     189708\n",
      "2  15230     189709\n",
      "3  15230     189757\n",
      "4  15230     189758\n"
     ]
    }
   ],
   "source": [
    "print(api_dataset.head()) #a dataframe listing objectIDs where the artist or culture is \n",
    "#French, with 15230 total records"
   ]
  },
  {
   "cell_type": "markdown",
   "id": "badc253b",
   "metadata": {},
   "source": [
    "### c) Provide some summary statistics of the data. Include the data frame in a .csv file called data.csv with your submission for the grader."
   ]
  },
  {
   "cell_type": "code",
   "execution_count": 150,
   "id": "904b76ab",
   "metadata": {},
   "outputs": [],
   "source": [
    "api_dataset.to_csv('data.csv')"
   ]
  },
  {
   "cell_type": "markdown",
   "id": "0a59949e",
   "metadata": {},
   "source": [
    "# 5. API Client"
   ]
  },
  {
   "cell_type": "markdown",
   "id": "392cf27b",
   "metadata": {},
   "source": [
    "### a) API client function: Lastly, let's try to wrap the code from the previous sections into a simple API client function. "
   ]
  },
  {
   "cell_type": "code",
   "execution_count": 174,
   "id": "c4bc2e2c",
   "metadata": {},
   "outputs": [],
   "source": [
    "def run_a_get(par = '2018-01-01'):\n",
    "    sr = requests.get('https://collectionapi.metmuseum.org/public/collection/v1/objects'\n",
    ", params = {'metadataDate': par})\n",
    "    return sr.status_code \n",
    "    return sr.headers.get('content-type')\n",
    "    json_sr = sr.json()\n",
    "    response_dict = pd.DataFrame.from_dict(json_sr)\n",
    "    response_dict_head()\n",
    "    "
   ]
  },
  {
   "cell_type": "code",
   "execution_count": 176,
   "id": "2e139f73",
   "metadata": {},
   "outputs": [
    {
     "data": {
      "text/plain": [
       "'application/json; charset=UTF-8'"
      ]
     },
     "execution_count": 176,
     "metadata": {},
     "output_type": "execute_result"
    }
   ],
   "source": [
    "run_a_get()"
   ]
  },
  {
   "cell_type": "code",
   "execution_count": null,
   "id": "395cd6b3",
   "metadata": {},
   "outputs": [],
   "source": []
  },
  {
   "cell_type": "code",
   "execution_count": null,
   "id": "19a6952d",
   "metadata": {},
   "outputs": [],
   "source": []
  }
 ],
 "metadata": {
  "kernelspec": {
   "display_name": "Python 3",
   "language": "python",
   "name": "python3"
  },
  "language_info": {
   "codemirror_mode": {
    "name": "ipython",
    "version": 3
   },
   "file_extension": ".py",
   "mimetype": "text/x-python",
   "name": "python",
   "nbconvert_exporter": "python",
   "pygments_lexer": "ipython3",
   "version": "3.9.7"
  }
 },
 "nbformat": 4,
 "nbformat_minor": 5
}

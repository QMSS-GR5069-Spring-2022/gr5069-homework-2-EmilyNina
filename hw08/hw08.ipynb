{
 "cells": [
  {
   "cell_type": "markdown",
   "id": "07c9773b",
   "metadata": {},
   "source": [
    "# Homework 08\n",
    "\n",
    "*Emily Nina Scharf*\n",
    "\n",
    "*Nov 18, 2021*"
   ]
  },
  {
   "cell_type": "code",
   "execution_count": 2,
   "id": "6348fad7",
   "metadata": {},
   "outputs": [],
   "source": [
    "import requests\n",
    "import json\n",
    "import pandas as pd"
   ]
  },
  {
   "cell_type": "markdown",
   "id": "13dba401",
   "metadata": {},
   "source": [
    "# 1. Choose an API"
   ]
  },
  {
   "cell_type": "markdown",
   "id": "ea57882a",
   "metadata": {},
   "source": [
    "### a) Choose an API and describe the type of data you can obtain from it"
   ]
  },
  {
   "cell_type": "markdown",
   "id": "3c72ee68",
   "metadata": {},
   "source": [
    "I will be using the Met Museum API. It has four available endpoints: Objects(a list of Object IDs), Object (a recird for a particular object), Departments (A list of valid departments), and Search (A list of Object IDs that contain a search query within the Object's data)."
   ]
  },
  {
   "cell_type": "markdown",
   "id": "b4c1b49f",
   "metadata": {},
   "source": [
    "### b) Provide a link to the API documentation "
   ]
  },
  {
   "cell_type": "markdown",
   "id": "9a621625",
   "metadata": {},
   "source": [
    "https://metmuseum.github.io/"
   ]
  },
  {
   "cell_type": "markdown",
   "id": "301b3185",
   "metadata": {},
   "source": [
    "### c) Provide a link to the base URL"
   ]
  },
  {
   "cell_type": "markdown",
   "id": "1364dbf3",
   "metadata": {},
   "source": [
    "https://collectionapi.metmuseum.org"
   ]
  },
  {
   "cell_type": "markdown",
   "id": "10bae456",
   "metadata": {},
   "source": [
    "# 2. Authentification"
   ]
  },
  {
   "cell_type": "markdown",
   "id": "a7face60",
   "metadata": {},
   "source": [
    "### a) Briefly explain how the API authenticates the user"
   ]
  },
  {
   "cell_type": "markdown",
   "id": "66262107",
   "metadata": {},
   "source": [
    "This API does not require users to register or obtain a key."
   ]
  },
  {
   "cell_type": "markdown",
   "id": "e54654ec",
   "metadata": {},
   "source": [
    "### b) Apply for an API key if necessary "
   ]
  },
  {
   "cell_type": "markdown",
   "id": "5aa4e767",
   "metadata": {},
   "source": [
    "Not Applicable "
   ]
  },
  {
   "cell_type": "markdown",
   "id": "d88d6cc7",
   "metadata": {},
   "source": [
    "# 3. Send a simple GET request"
   ]
  },
  {
   "cell_type": "markdown",
   "id": "1a2ab884",
   "metadata": {},
   "source": [
    "### a)  Execute a simple GET request to obtain a small amount of data from the API. Describe a few query parameters and add them to the query. Your output here should include the code for the GET request, including the query parameters, as well as a snippet of the output."
   ]
  },
  {
   "cell_type": "code",
   "execution_count": 22,
   "id": "1c04f01c",
   "metadata": {},
   "outputs": [],
   "source": [
    "# Get the information on 2018-01-01\n",
    "sr = requests.get('https://collectionapi.metmuseum.org/public/collection/v1/objects'\n",
    ", params = {'metadataDate': '2018-01-01'})"
   ]
  },
  {
   "cell_type": "code",
   "execution_count": 25,
   "id": "1b77c2a8",
   "metadata": {},
   "outputs": [
    {
     "data": {
      "text/plain": [
       "dict_keys(['total', 'objectIDs'])"
      ]
     },
     "execution_count": 25,
     "metadata": {},
     "output_type": "execute_result"
    }
   ],
   "source": [
    "# show the keys of the json result\n",
    "json_sr = sr.json()\n",
    "json_sr.keys()"
   ]
  },
  {
   "cell_type": "code",
   "execution_count": 23,
   "id": "ad708064",
   "metadata": {},
   "outputs": [
    {
     "data": {
      "text/plain": [
       "477921"
      ]
     },
     "execution_count": 23,
     "metadata": {},
     "output_type": "execute_result"
    }
   ],
   "source": [
    "# find out the total count of Object IDs\n",
    "count = json_sr['total']\n",
    "count "
   ]
  },
  {
   "cell_type": "code",
   "execution_count": 24,
   "id": "252152de",
   "metadata": {},
   "outputs": [
    {
     "name": "stdout",
     "output_type": "stream",
     "text": [
      "[1, 2, 3, 4, 5, 6, 7, 8, 9, 10]\n"
     ]
    }
   ],
   "source": [
    "# show the list of first ten Object IDs\n",
    "ids = json_sr['objectIDs']\n",
    "print(ids[:10])"
   ]
  },
  {
   "cell_type": "markdown",
   "id": "91eb755d",
   "metadata": {},
   "source": [
    "### b) Check (and show) the status of the request."
   ]
  },
  {
   "cell_type": "code",
   "execution_count": 10,
   "id": "fc8914e6",
   "metadata": {},
   "outputs": [
    {
     "data": {
      "text/plain": [
       "200"
      ]
     },
     "execution_count": 10,
     "metadata": {},
     "output_type": "execute_result"
    }
   ],
   "source": [
    "sr.status_code"
   ]
  },
  {
   "cell_type": "markdown",
   "id": "a3826293",
   "metadata": {},
   "source": [
    "### c) Check (and show) the type of the response (e.g. XML, JSON, csv)."
   ]
  },
  {
   "cell_type": "code",
   "execution_count": 11,
   "id": "b810cb2b",
   "metadata": {},
   "outputs": [
    {
     "data": {
      "text/plain": [
       "'application/json; charset=UTF-8'"
      ]
     },
     "execution_count": 11,
     "metadata": {},
     "output_type": "execute_result"
    }
   ],
   "source": [
    "sr.headers.get('content-type')"
   ]
  },
  {
   "cell_type": "markdown",
   "id": "69076451",
   "metadata": {},
   "source": [
    "# 4. Parse the response and Create a dataset"
   ]
  },
  {
   "cell_type": "markdown",
   "id": "b350ac63",
   "metadata": {},
   "source": [
    "### a) Take the response returned by the API and turn it into a useful Python object (e.g. a list, vector, or pandas data frame). Show the code how this is done."
   ]
  },
  {
   "cell_type": "code",
   "execution_count": 12,
   "id": "0722f7c8",
   "metadata": {},
   "outputs": [],
   "source": [
    "# Put the request results for Object IDs into a dataframe\n",
    "response_dict = pd.DataFrame.from_dict(json_sr)"
   ]
  },
  {
   "cell_type": "code",
   "execution_count": 13,
   "id": "d1244c7c",
   "metadata": {},
   "outputs": [
    {
     "name": "stdout",
     "output_type": "stream",
     "text": [
      "    total  objectIDs\n",
      "0  477921          1\n",
      "1  477921          2\n",
      "2  477921          3\n",
      "3  477921          4\n",
      "4  477921          5\n"
     ]
    }
   ],
   "source": [
    "# Show the first five rows to give the read a sense of how this dataframe looks like\n",
    "print(response_dict.head())"
   ]
  },
  {
   "cell_type": "markdown",
   "id": "a9ca67b5",
   "metadata": {},
   "source": [
    "### b) Using the API, create a dataset (in data frame format) for multiple records. I'd say a sample size greater than 100 is sufficient for the example but feel free to get more data if you feel ambitious and the API allows you to do that fairly easily. The dataset can include only a small subset of the returned data. Just choose some interesting features. There is no need to be inclusive here."
   ]
  },
  {
   "cell_type": "code",
   "execution_count": 14,
   "id": "3ef4dbc3",
   "metadata": {},
   "outputs": [],
   "source": [
    "# Make a new request to search information about French artists and culture\n",
    "req = requests.get('https://collectionapi.metmuseum.org/public/collection/v1/search?artistOrCulture=true&q=french')"
   ]
  },
  {
   "cell_type": "code",
   "execution_count": 15,
   "id": "49cff9a6",
   "metadata": {},
   "outputs": [],
   "source": [
    "req_json = req.json()"
   ]
  },
  {
   "cell_type": "code",
   "execution_count": 16,
   "id": "d6a42005",
   "metadata": {},
   "outputs": [
    {
     "data": {
      "text/plain": [
       "dict_keys(['total', 'objectIDs'])"
      ]
     },
     "execution_count": 16,
     "metadata": {},
     "output_type": "execute_result"
    }
   ],
   "source": [
    "req_json.keys()"
   ]
  },
  {
   "cell_type": "code",
   "execution_count": 17,
   "id": "a73850d8",
   "metadata": {},
   "outputs": [],
   "source": [
    "# A dataframe listing objectIDs where the artist or culture is \n",
    "api_dataset = pd.DataFrame.from_dict(req_json)"
   ]
  },
  {
   "cell_type": "code",
   "execution_count": 18,
   "id": "ea30bc49",
   "metadata": {},
   "outputs": [
    {
     "name": "stdout",
     "output_type": "stream",
     "text": [
      "   total  objectIDs\n",
      "0  27413     288118\n",
      "1  27413     459199\n",
      "2  27413     189708\n",
      "3  27413     189709\n",
      "4  27413     189757\n"
     ]
    }
   ],
   "source": [
    "print(api_dataset.head()) \n",
    "#French, with 15230 total records"
   ]
  },
  {
   "cell_type": "markdown",
   "id": "badc253b",
   "metadata": {},
   "source": [
    "### c) Provide some summary statistics of the data. Include the data frame in a .csv file called data.csv with your submission for the grader."
   ]
  },
  {
   "cell_type": "code",
   "execution_count": 19,
   "id": "904b76ab",
   "metadata": {},
   "outputs": [],
   "source": [
    "api_dataset.to_csv('data.csv')"
   ]
  },
  {
   "cell_type": "markdown",
   "id": "0a59949e",
   "metadata": {},
   "source": [
    "# 5. API Client"
   ]
  },
  {
   "cell_type": "markdown",
   "id": "392cf27b",
   "metadata": {},
   "source": [
    "### a) API client function: Lastly, let's try to wrap the code from the previous sections into a simple API client function. "
   ]
  },
  {
   "cell_type": "code",
   "execution_count": 34,
   "id": "c4bc2e2c",
   "metadata": {},
   "outputs": [],
   "source": [
    "def met_collections(date):\n",
    "    \"\"\"\n",
    "    This function aims to collect data from Met Museum API.\n",
    "    It can check the total collections and the objectIDs\n",
    "    \n",
    "    Parameters\n",
    "    ----------\n",
    "    date: a date in the format of \"yyyy-mm-dd\"\n",
    "        \n",
    "    Returns\n",
    "    -------\n",
    "    The dataframe showing the total collections and each objectIDs\n",
    "    \n",
    "    Examples\n",
    "    --------\n",
    "    >>> met_collections(date = '2018-01-01')\n",
    "    <DataFrame> \n",
    "       It contains a dataframe with 477,921 lines, representing there are 477,921 collections in total and the objectIDs.\n",
    "       \n",
    "    \"\"\"\n",
    "    sr = requests.get('https://collectionapi.metmuseum.org/public/collection/v1/objects'\n",
    ", params = {'metadataDate': date})\n",
    "    json_sr = sr.json()\n",
    "    response_dict = pd.DataFrame.from_dict(json_sr)\n",
    "    return response_dict "
   ]
  },
  {
   "cell_type": "code",
   "execution_count": 35,
   "id": "2e139f73",
   "metadata": {},
   "outputs": [
    {
     "data": {
      "text/html": [
       "<div>\n",
       "<style scoped>\n",
       "    .dataframe tbody tr th:only-of-type {\n",
       "        vertical-align: middle;\n",
       "    }\n",
       "\n",
       "    .dataframe tbody tr th {\n",
       "        vertical-align: top;\n",
       "    }\n",
       "\n",
       "    .dataframe thead th {\n",
       "        text-align: right;\n",
       "    }\n",
       "</style>\n",
       "<table border=\"1\" class=\"dataframe\">\n",
       "  <thead>\n",
       "    <tr style=\"text-align: right;\">\n",
       "      <th></th>\n",
       "      <th>total</th>\n",
       "      <th>objectIDs</th>\n",
       "    </tr>\n",
       "  </thead>\n",
       "  <tbody>\n",
       "    <tr>\n",
       "      <th>0</th>\n",
       "      <td>477921</td>\n",
       "      <td>1</td>\n",
       "    </tr>\n",
       "    <tr>\n",
       "      <th>1</th>\n",
       "      <td>477921</td>\n",
       "      <td>2</td>\n",
       "    </tr>\n",
       "    <tr>\n",
       "      <th>2</th>\n",
       "      <td>477921</td>\n",
       "      <td>3</td>\n",
       "    </tr>\n",
       "    <tr>\n",
       "      <th>3</th>\n",
       "      <td>477921</td>\n",
       "      <td>4</td>\n",
       "    </tr>\n",
       "    <tr>\n",
       "      <th>4</th>\n",
       "      <td>477921</td>\n",
       "      <td>5</td>\n",
       "    </tr>\n",
       "    <tr>\n",
       "      <th>...</th>\n",
       "      <td>...</td>\n",
       "      <td>...</td>\n",
       "    </tr>\n",
       "    <tr>\n",
       "      <th>477916</th>\n",
       "      <td>477921</td>\n",
       "      <td>856533</td>\n",
       "    </tr>\n",
       "    <tr>\n",
       "      <th>477917</th>\n",
       "      <td>477921</td>\n",
       "      <td>856534</td>\n",
       "    </tr>\n",
       "    <tr>\n",
       "      <th>477918</th>\n",
       "      <td>477921</td>\n",
       "      <td>856535</td>\n",
       "    </tr>\n",
       "    <tr>\n",
       "      <th>477919</th>\n",
       "      <td>477921</td>\n",
       "      <td>856536</td>\n",
       "    </tr>\n",
       "    <tr>\n",
       "      <th>477920</th>\n",
       "      <td>477921</td>\n",
       "      <td>856537</td>\n",
       "    </tr>\n",
       "  </tbody>\n",
       "</table>\n",
       "<p>477921 rows × 2 columns</p>\n",
       "</div>"
      ],
      "text/plain": [
       "         total  objectIDs\n",
       "0       477921          1\n",
       "1       477921          2\n",
       "2       477921          3\n",
       "3       477921          4\n",
       "4       477921          5\n",
       "...        ...        ...\n",
       "477916  477921     856533\n",
       "477917  477921     856534\n",
       "477918  477921     856535\n",
       "477919  477921     856536\n",
       "477920  477921     856537\n",
       "\n",
       "[477921 rows x 2 columns]"
      ]
     },
     "execution_count": 35,
     "metadata": {},
     "output_type": "execute_result"
    }
   ],
   "source": [
    "met_collections(date = '2018-01-01')"
   ]
  },
  {
   "cell_type": "code",
   "execution_count": null,
   "id": "4569862f",
   "metadata": {},
   "outputs": [],
   "source": []
  }
 ],
 "metadata": {
  "kernelspec": {
   "display_name": "Python 3 (ipykernel)",
   "language": "python",
   "name": "python3"
  },
  "language_info": {
   "codemirror_mode": {
    "name": "ipython",
    "version": 3
   },
   "file_extension": ".py",
   "mimetype": "text/x-python",
   "name": "python",
   "nbconvert_exporter": "python",
   "pygments_lexer": "ipython3",
   "version": "3.8.12"
  }
 },
 "nbformat": 4,
 "nbformat_minor": 5
}
